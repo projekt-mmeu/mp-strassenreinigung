{
 "cells": [
  {
   "cell_type": "markdown",
   "metadata": {
    "id": "1-Ao8reEZWp2"
   },
   "source": [
    "# Abrieb von Besen und Kehrmaschinen\n",
    "## Modellansatz\n",
    "Nach einer Quantifizierung von Bertling et al. (2018) fallen in Deutschland pro Kopf und Jahr 38,3 g Mikroplastikemissionen durch den Abrieb von Besen und Kehrmaschinen an, die folgendermaßen aufgegliedert sind:\n",
    "* Privater Bereich & Stadtreinigungen: $e_b = 28,3 g/(cap·a)$\n",
    "* Kehrmaschinen Landwirtschaft: $e_l = 9,6 g/(cap · a)$\n",
    "* Kehrmaschinen Stadtreinigungen: $e_k = 0,4 g/(cap · a)$\n",
    "\n",
    "Wir gehen davon aus, dass der Posten \"Privater Bereich & Stadtreinigungen\" sich in Abgrenzung zu \"Kehrmaschinen Stadtreinigung\" auf Emissionen aus der manuellen Reinigung mit Besen bezieht. Die Emissionen aus der Landwirtschaft werden hier aufgrund des städtischen Bezugsraums nicht weiter berücksichtigt.\n",
    "\n",
    "Die jährlichen Emissionsmengen $E_b$ aus Besen und $E_k$ aus Kehrmaschinen rechnen wir auf die Einwohnerzahl $p$ des Betrachtungsraums hoch:\n",
    "\n",
    "$E_t = e_t · p \\quad$ für $t \\in \\{b, k\\}$\n",
    "\n",
    "Zur Ermittlung der räumlichen Verteilung der Emissionen nehmen wir an, dass die jährlichen Emissionen $E_b^i$ bzw. $E_k^i$ für einen Streckenabschnitt i proportional zur Länge $l^i$ des Streckenabschnitts und zur Reinigungshäufigkeit $f_b^i$ bzw. $f_k^i$ sind:\n",
    "\n",
    "$E_t^i = \\alpha_t \\cdotp E_t \\cdotp l^i \\cdotp f_t^i \\quad$ für $t \\in \\{b, k\\} \\quad $ (1)\n",
    "\n",
    "Durch die Randbedingungen $E_t = \\sum E_t^j$ ergibt sich für die jeweilige Proportionalitätskonstante $\\alpha_t$:\n",
    "\n",
    "$\\alpha_t = \\frac{1}{\\sum l^j f_t^j} \\quad$ für $t \\in \\{b, k\\}$ (2)\n",
    "\n",
    "Die streckenspezifischen Emissionsmengen $ϵ_b^i$ bzw. $ϵ_k^i$ ergeben sich durch Division der Gleichung (1) durch $l^i$ und Einsetzen von (2):\n",
    "\n",
    "$ϵ_t^i = \\frac{1}{\\sum l^j f_t^j} \\cdotp E_t \\cdotp f_t^i \\quad$ für $t \\in \\{b, k\\}$\n",
    "\n",
    "Durch Summieren über t ergibt sich schließlich die gesamte streckenspezifische Emissionsmenge des $i$-ten Streckenabschnitts:\n",
    "\n",
    "$ϵ^i = ϵ_b^i + ϵ_k^i = \\frac{1}{\\sum l^j f_b^j} \\cdotp E_b \\cdotp f_b^i + \\frac{1}{\\sum l^j f_k^j} \\cdotp E_k \\cdotp f_k^i$\n",
    "\n",
    "Nicht berücksichtigt sind bislang:\n",
    "* Die Breite der Fahrbahn bzw. die Anzahl der Fahrstreifen\n",
    "* Die Reinigungsintensität\n",
    "* Die Geometrie des Streckenabschnitts (Kurvigkeit, Längs- und Querneigung)\n",
    "* Die Oberflächenbeschaffenheit der Fahrbahn bzw. des Gehwegs\n",
    "* Die Witterung (Niederschlag, Wind, rel. Luftfeuchtigkeit)\n",
    "* Materielle Zusammensetzung der eingesetzten Besen / Bürsten"
   ]
  },
  {
   "cell_type": "markdown",
   "metadata": {
    "id": "lFqCwskhrAkq"
   },
   "source": [
    "## Datenquellen\n",
    "Die Pro-Kopf-Emissionen des Abriebs werden Bertling et al. (2018) entnommen, siehe oben. Für die Bevölkerungszahl Berlins werden die Angaben des Amts für Statistik Berlin-Brandenburg verwendet.\n",
    "\n",
    "Zur Bestimmung der Reinigungshäufigkeiten $f_t^i$ und der Längen der Streckenabschnitte $l^i$ wird am Beispiel Berlins das Straßenreinigungsverzeichnis und die dort zugeordneten Reinigungsklassen herangezogen.\n",
    "\n",
    "### Straßenreinigungsverzeichnis und Reinigungsklassen in Berlin\n",
    "* **Datenquelle:** Berliner Stadtreinigung (Berlin Open Data 2015)\n",
    "* **Kurzbeschreibung:** \"Auf Basis des Berliner Straßenreinigungsverzeichnisses (StrReinVerz) werden alle öffentlichen Straßen, Plätze und Wege in verschiedene Verzeichnisse unterteilt. Merkmale hierfür sind Ausbau und Verkehrslage. Dementsprechend ist festgelegt, wer die Reinigung übernimmt. Zusätzlich wird die Häufigkeit der Reinigung in Reinigungsklassen definiert\" (Berlin Open Data 2015).\n",
    "* **Format:** Vier verschiedene Formate (DXF, GML, SHP, MITAB und PDF) für je drei verschiedene Koordinatensysteme (Soldner, ETRS89, WGS84) sind verfügbar. Wir verwenden SHP, da dieses vom Python-Package Geopandas unterstützt wird, im Koordinatensystem ETRS89, das im Vergleich zu WGS84 für kleinräumige Sachverhalte besser geeignet ist (vgl. Open Data Düsseldorf 2020) und als modernes Koordinatensystem weiter verbreitet ist als Soldner.\n",
    "* **Räumliche Abdeckung:** Berlin\n",
    "* **Räumliche Auflösung:** Straßenabschnitte\n",
    "* **Zeitliche Abdeckung:** Momentaufnahme (09.11.2015)\n",
    "* **Zeitliche Auflösung:** Momentaufnahme (09.11.2015)\n",
    "* **Aktualität:** laut Anbieter wöchentliche Aktualisierung, jedoch 2015 letztmalig aktualisiert\n",
    "\n",
    "Über die oben beschriebenen Daten hinaus wird vom Anbieter eine Visualisierung der Daten als Webanwendung zur Verfügung gestellt, diese ist allerdings aktuell nicht funktionsfähig (Berlin Open Data, o.J.).\n"
   ]
  },
  {
   "cell_type": "markdown",
   "metadata": {
    "id": "eEUq7Ou0VmxT"
   },
   "source": [
    "## Daten einlesen\n",
    "### Straßenreinigungsverzeichnis und Reinigungsklassen in Berlin"
   ]
  },
  {
   "cell_type": "code",
   "execution_count": null,
   "metadata": {
    "executionInfo": {
     "elapsed": 529,
     "status": "ok",
     "timestamp": 1649922752488,
     "user": {
      "displayName": "Jonathan Kirchhoff",
      "userId": "09432553977490044245"
     },
     "user_tz": -120
    },
    "id": "LzGOSBHqVvo5"
   },
   "outputs": [],
   "source": [
    "import pandas as pd\n",
    "import numpy as np\n",
    "import geopandas as gpd\n",
    "import matplotlib.pyplot as plt\n",
    "import os"
   ]
  },
  {
   "cell_type": "code",
   "execution_count": null,
   "metadata": {
    "executionInfo": {
     "elapsed": 7699,
     "status": "ok",
     "timestamp": 1649922791888,
     "user": {
      "displayName": "Jonathan Kirchhoff",
      "userId": "09432553977490044245"
     },
     "user_tz": -120
    },
    "id": "-NDoMynTWYqz"
   },
   "outputs": [],
   "source": [
    "# BEACHTE: DATEIPFAD MUSS GEGEBENENFALLS ANGEPASST WERDEN\n",
    "mypath = os.getcwd()\n",
    "bsr_path = os.path.join(mypath, \"Eingangsdaten\", \"Reinigungsklassen.zip\")\n",
    "bsr = gpd.read_file(bsr_path)"
   ]
  },
  {
   "cell_type": "markdown",
   "metadata": {
    "id": "8PXZsH9Bexze"
   },
   "source": [
    "### Bevölkerungszahl von Berlin\n",
    "Die Bevölkerungszahl Berlins im Jahr 2020 betrug 3,6641 Mio. (Amt für Statistik Berlin-Brandenburg, o.J.)."
   ]
  },
  {
   "cell_type": "code",
   "execution_count": null,
   "metadata": {
    "executionInfo": {
     "elapsed": 16,
     "status": "ok",
     "timestamp": 1649922791889,
     "user": {
      "displayName": "Jonathan Kirchhoff",
      "userId": "09432553977490044245"
     },
     "user_tz": -120
    },
    "id": "aiWgdFp5VTLJ"
   },
   "outputs": [],
   "source": [
    "p_Berlin = 3.6651E6"
   ]
  },
  {
   "cell_type": "markdown",
   "metadata": {
    "id": "ShOTBG0okbsN"
   },
   "source": [
    "### Pro-Kopf-Emissionen\n",
    "Nach Bertling et al. (2018) (siehe oben):\n",
    "* Privater Bereich & Stadtreinigungen: $e_b = 28,3 g/(cap·a)$\n",
    "* Kehrmaschinen Stadtreinigungen: $e_k = 0,4 g/(cap · a)$"
   ]
  },
  {
   "cell_type": "code",
   "execution_count": null,
   "metadata": {
    "executionInfo": {
     "elapsed": 15,
     "status": "ok",
     "timestamp": 1649922791890,
     "user": {
      "displayName": "Jonathan Kirchhoff",
      "userId": "09432553977490044245"
     },
     "user_tz": -120
    },
    "id": "-8XM7vJikxQl"
   },
   "outputs": [],
   "source": [
    "e_b = 28.3\n",
    "e_k = 0.4"
   ]
  },
  {
   "cell_type": "markdown",
   "metadata": {
    "id": "aLzC92xCkBen"
   },
   "source": [
    "## Explorative Datenanalyse\n",
    "Da keine Dokumentation des Datensatzes vorliegt, interpretieren wir die Bedeutung der Attribute aufgrund ihrer Bezeichnungen und der vorkommenden Werte. Ein Blick auf die ersten Zeilen des Datensatzes, eine einfache beschreibende Statistik und die Wertebereiche für Attribute mit einer einstelligen Anzahl unterschiedlicher Ausprägungen gibt uns einen ersten Eindruck:"
   ]
  },
  {
   "cell_type": "code",
   "execution_count": null,
   "metadata": {
    "colab": {
     "base_uri": "https://localhost:8080/",
     "height": 206
    },
    "executionInfo": {
     "elapsed": 16,
     "status": "ok",
     "timestamp": 1649922791891,
     "user": {
      "displayName": "Jonathan Kirchhoff",
      "userId": "09432553977490044245"
     },
     "user_tz": -120
    },
    "id": "bipKVskSglwG",
    "outputId": "217175e8-c43d-4e9c-b530-48421dab6365"
   },
   "outputs": [],
   "source": [
    "# Erste fünf Zeilen:\n",
    "bsr.head()"
   ]
  },
  {
   "cell_type": "code",
   "execution_count": null,
   "metadata": {
    "colab": {
     "base_uri": "https://localhost:8080/",
     "height": 230
    },
    "executionInfo": {
     "elapsed": 13798,
     "status": "ok",
     "timestamp": 1649922805676,
     "user": {
      "displayName": "Jonathan Kirchhoff",
      "userId": "09432553977490044245"
     },
     "user_tz": -120
    },
    "id": "TD1bMN41jzoJ",
    "outputId": "1a4ecfaf-4d92-4b75-f2d4-2b3cddea4f25"
   },
   "outputs": [],
   "source": [
    "# Beschreibende Statistik:\n",
    "print (\"Zeilenanzahl: \" + str(len(bsr)))\n",
    "bsr.describe()"
   ]
  },
  {
   "cell_type": "code",
   "execution_count": null,
   "metadata": {
    "colab": {
     "base_uri": "https://localhost:8080/"
    },
    "executionInfo": {
     "elapsed": 7,
     "status": "ok",
     "timestamp": 1649922805676,
     "user": {
      "displayName": "Jonathan Kirchhoff",
      "userId": "09432553977490044245"
     },
     "user_tz": -120
    },
    "id": "by-f04ZdnUUh",
    "outputId": "be2e17c1-dfe9-4314-f8fb-8b241df0ccf4"
   },
   "outputs": [],
   "source": [
    "# Ausprägungshäufigkeiten der Attribute mit einstelliger Anzahl unterschiedlicher Ausprägungen:\n",
    "for var in {'ENTOBJTYP', 'RVZRKL', 'HOF'}:\n",
    "  print (var + ':')\n",
    "  print (bsr[var].value_counts(dropna=False))\n",
    "  print ()"
   ]
  },
  {
   "cell_type": "code",
   "execution_count": null,
   "metadata": {
    "colab": {
     "base_uri": "https://localhost:8080/",
     "height": 391
    },
    "executionInfo": {
     "elapsed": 1843,
     "status": "ok",
     "timestamp": 1649922807515,
     "user": {
      "displayName": "Jonathan Kirchhoff",
      "userId": "09432553977490044245"
     },
     "user_tz": -120
    },
    "id": "IwjvILqNHbV_",
    "outputId": "68786dd5-0d9c-4f46-a5a5-f3a4e9fc850f"
   },
   "outputs": [],
   "source": [
    "# Ausprägungshäufigkeiten als Histogramme:\n",
    "vars = ['ENTOBJTYP', 'RVZRKL', 'HOF']\n",
    "fig, ax = plt.subplots(1, 3, figsize=(25, 5))\n",
    "for count, item in enumerate(ax):\n",
    "  bsr[vars[count]].value_counts(dropna=False).plot(kind=\"bar\", ax = item, title=\"Ausprägungshäufigkeiten des Attributs \" + vars[count])"
   ]
  },
  {
   "cell_type": "markdown",
   "metadata": {
    "id": "nstDMsiqlY6h"
   },
   "source": [
    "Die folgenden Erkenntnisse über die einzelnen Attribute lassen sich ableiten:\n",
    "*   Der Datensatz enthält 88.155 Straßenabschnitte, die mit einer eindeutigen Kennung ('ROID') versehen sind.\n",
    "*   Jeder Straßenabschnitt ist einem von vier Typen zugeordnet (ENTOBJTYP). Die Bedeutung der Typenkürzel ('EOT_GWG', 'EOT_PLABEF', 'EOT_TUNANL', 'EOT_PLAGFL') wird weiter unten analysiert. Nahezu alle Straßenabschnitte (87.486, entspricht 99,2 Prozent) sind dem Typ 'EOT_GWG' zugeordnet.\n",
    "*   Jedem Straßenabschnitt ist zudem eine 'BLOCKSEITE' (\"Gebiet, in dem sich bebaute Grundstücke mit Adressen zu diesem Straßenabschnitt befinden\", vgl. GovData 2013) zugeordnet. Diese besteht aus einer, bis auf eine Ausnahme eindeutigen, Ziffernfolge.\n",
    "*    Nahezu allen Straßenabschnitten (87.786, entspricht 99,6 Prozent) ist eine von 9 Reinigungsklassen ('RVZRKL') zugewiesen. Neben den dokumentierten und weiter unten beschriebenen Reinigungsklassen kommt der Wert 'P' vor.\n",
    "*   Die Name der Straße, auf der der Straßenabschnitt liegt, wird für alle Straßenabschnitte unter 'STR_ANL' angegeben.\n",
    "*   Für eine Vielzahl der Straßenabschnitte (84.253 bzw. 84.000, entspricht 95,6 Prozent bzw. 95,3 Prozent) wird zudem der Straßenname der kreuzenden oder einmündenden Straßen angegeben, an der der Abschnitt beginnt ('STR_VON') bzw. endet ('STR_BIS').\n",
    "*   Für jeden Straßenabschnitt wird zudem ein zuständiger Betriebshof ('HOF') angegeben: 'R1' bis 'R5'.\n",
    "*   Unter 'geometry' ist der Verlauf des Straßenabschnitts als Liste von Koordinaten im verwendeten Koordinatensystem (ETRS89) erfasst.\n",
    "\n",
    "Für ein tiefergehendes Verständnis für die Daten visualisieren wir einen Ausschnitt ('HOF' = 'R5') in der folgenden interaktiven Karte. Die inhaltlich bedeutsamen Variablen zu einem Straßenabschnitt werden als Mouse-Over-Effekt eingeblendet."
   ]
  },
  {
   "cell_type": "code",
   "execution_count": null,
   "metadata": {
    "colab": {
     "background_save": true,
     "base_uri": "https://localhost:8080/",
     "height": 1000,
     "output_embedded_package_id": "19BlAz6LuP7UF5yYeHG9Y9fOCH94MgGDr"
    },
    "executionInfo": {
     "elapsed": 27056,
     "status": "ok",
     "timestamp": 1649922834565,
     "user": {
      "displayName": "Jonathan Kirchhoff",
      "userId": "09432553977490044245"
     },
     "user_tz": -120
    },
    "id": "oSK1ajOsmtXw",
    "outputId": "ac881d5f-ec61-4652-8df7-d42b2112e2ff"
   },
   "outputs": [],
   "source": [
    "import folium \n",
    "\n",
    "# Karte initialisieren\n",
    "m=folium.Map(location=[52.5, 13.4], zoom_start=11)\n",
    "\n",
    "# Farbcodierung des Objekttyps\n",
    "c_map = {\n",
    "    'EOT_GWG': 'gray',\n",
    "    'EOT_PLABEF': 'limegreen',\n",
    "    'EOT_TUNANL': 'royalblue',\n",
    "    'EOT_PLAGFL': 'orangered'\n",
    "}\n",
    "\n",
    "# Gestrichelte Linien für Privatstraßen\n",
    "dash_map = dict.fromkeys(['C', 'A3', 'A4', 'A2b', 'A2a', 'A1a', 'A1b', 'B', None], 'none')\n",
    "dash_map.update(dict.fromkeys('P', '2 8'))\n",
    "\n",
    "\n",
    "style_function = lambda x: {'fillColor': '#ffffff', \n",
    "                            'color': c_map[x['properties']['ENTOBJTYP']],\n",
    "                            'dashArray': dash_map[x['properties']['RVZRKL']],\n",
    "                            'fillOpacity': 0.1, \n",
    "                            'weight': 2} # war auf 0.1\n",
    "\n",
    "highlight_function = lambda x: {'fillColor': '#000000', \n",
    "                                'color':'#ff0000', \n",
    "                                'fillOpacity': 0.50, \n",
    "                                'weight': 1} # war auf 0.1\n",
    "NIL = folium.features.GeoJson(\n",
    "    #data = bsr.loc[(bsr['RVZRKL'] == 'P') | (bsr['ENTOBJTYP'] != 'EOT_GWG')],\n",
    "    #data = bsr.loc[bsr['RVZRKL'] == 'P'],\n",
    "    #data = bsr.loc[pd.isnull(bsr['RVZRKL'])],\n",
    "    #data = bsr[0:16000],\n",
    "    data = bsr.loc[bsr['HOF'] == 'R5'],\n",
    "    style_function=style_function, \n",
    "    control=False,\n",
    "    highlight_function=highlight_function, \n",
    "    tooltip=folium.features.GeoJsonTooltip(\n",
    "        fields=['ENTOBJTYP', 'RVZRKL', 'STR_ANL', 'STR_VON', 'STR_BIS', 'HOF'],\n",
    "        aliases=['ENTOBJTYP', 'RVZRKL', 'STR_ANL', 'STR_VON', 'STR_BIS', 'HOF'],\n",
    "        style=(\"background-color: white; color: #333333; font-family: arial; font-size: 12px; padding: 10px;\") \n",
    "    )\n",
    ")\n",
    "m.add_child(NIL)\n",
    "m.keep_in_front(NIL)\n",
    "\n",
    "m"
   ]
  },
  {
   "cell_type": "markdown",
   "metadata": {
    "id": "M5TXzRbFqdEm"
   },
   "source": [
    "Durch eine stichprobenartige Untersuchung der Straßenabschnitte auf ihre Merkmale leiten wir folgende Annahmen her:\n",
    "\n",
    "* Die Typen der Straßenabschnitte werden folgendermaßen codiert:\n",
    "  *   Der am häufigsten vorkommende Straßentyp ('EOT_GWG') steht für gewöhnliche Straßen und Wege.\n",
    "  *   Mit 'EOT_PLABEF' werden Parkplätze, Grünstreifen, sowie einige Plätze codiert.\n",
    "  *   Der Typ 'EOT_PLAGFL' bezeichnet Plätze.\n",
    "  *   Als 'EOT_TUNANL' werden Tunnel markiert.\n",
    "* Abschnitte von Straßen und Wegen werden in der Regel mit je einem Linienzug je Straßenseite, also doppelt, erfasst.\n",
    "* Flächige Objekte wie Plätze werden als geschlossener Linienzug abgebildet.\n",
    "* Der Wert 'RVZRKL' = 'P' codiert Privatstraßen. Für sie ist keine Reinigungsklasse definiert.\n"
   ]
  },
  {
   "cell_type": "markdown",
   "metadata": {
    "id": "kbxH75zEdo5u"
   },
   "source": [
    "## Daten vorverarbeiten\n",
    "Für den Zweck dieses Modells ist neben der Geometrie eines Streckenabschnitts in erster Linie seine Reinigungsklasse relevant. Sie legt fest, was zu reinigen ist, wer für die Reinigung zuständig ist und wie häufig die Reinigung zu erfolgen hat. Nach (BSR, o.J.) sind für alle Reinigungsklasse zu reinigen:\n",
    "\n",
    "* Gehweg, wenn vorhanden\n",
    "* Straßenbegleitgrün\n",
    "* Fahrbahn\n",
    "\n",
    "Für die mit 'A' beginnenden Klassen ist zusätzlich der Mittelstreifen zu reinigen, was hier jedoch, ebenso wie das Straßenbegleitgrün, vereinfachend nicht gesondert betrachtet wird.\n",
    "\n",
    "Die Zuständigkeiten und Reinigungshäufigkeiten nach (ebd.) sind in folgender Tabelle dargestellt:\n",
    "\n",
    "| Reinigungsklasse | Zuständigkeit | Reinigungshäufigkeit (pro Woche) |\n",
    "| :----------------: | :-------------: | :--------------------------------: |\n",
    "| A1a | BSR | 10 |\n",
    "| A1b | BSR | 7 |\n",
    "| A2a | BSR | 6 |\n",
    "| A2b | BSR | 5 |\n",
    "| A3 | BSR | 3 |\n",
    "| A4 | BSR | 1 |\n",
    "| B | BSR | 1 |\n",
    "| C | Anlieger | 1 |\n",
    "\n",
    "Für die Modellierung treffen wir folgende vereinfachende Annahmen:\n",
    "* Die tatsächliche Reinigungshäufigkeit entspricht der vorgeschriebenen.\n",
    "* Die von der BSR gereinigten Fahrbahnen werden mit Kehrmaschinen gereinigt.\n",
    "* Alle Gehwege werden mit Besen gereinigt.\n",
    "* Alle Straßen verfügen über einen Fahrstreifen und einen Gehweg je Richtung.\n",
    "* Privatstraßen und Straßenabschnitte ohne angegebene Reinigungsklasse werden entsprechend der Reinigungsklasse C gereinigt (1 mal pro Woche durch die Anlieger).\n",
    "\n",
    "Parkplätze, Grünstreifen und Plätze (n = 648) werden nicht berücksichtigt.\n",
    "\n",
    "Wir filtern im Folgenden die Daten entsprechend dieser Einschränkungen und berechnen auf Grundlage der beschriebenen Annahmen die Reinigungshäufigkeiten $f_t^i$ und der Längen der Streckenabschnitte $l^i$."
   ]
  },
  {
   "cell_type": "code",
   "execution_count": null,
   "metadata": {
    "colab": {
     "base_uri": "https://localhost:8080/",
     "height": 212
    },
    "executionInfo": {
     "elapsed": 659,
     "status": "ok",
     "timestamp": 1649922835099,
     "user": {
      "displayName": "Jonathan Kirchhoff",
      "userId": "09432553977490044245"
     },
     "user_tz": -120
    },
    "id": "iKhNW44flrCz",
    "outputId": "f992b248-5d4b-4860-af06-f9933dcf130c"
   },
   "outputs": [],
   "source": [
    "# Daten filtern (nur Straßen/Wege und Tunnel)\n",
    "bsr_model = bsr[(bsr['ENTOBJTYP'].isin(['EOT_GWG', 'EOT_TUNANL']))]\n",
    "\n",
    "# Unbenötigte Attribute entfernen\n",
    "bsr_model = bsr_model.drop(columns=['BLOCKSEITE', 'STR_VON', 'STR_BIS', 'HOF'])\n",
    "\n",
    "bsr_model.describe()"
   ]
  },
  {
   "cell_type": "code",
   "execution_count": null,
   "metadata": {
    "colab": {
     "base_uri": "https://localhost:8080/",
     "height": 206
    },
    "executionInfo": {
     "elapsed": 96,
     "status": "ok",
     "timestamp": 1649922835100,
     "user": {
      "displayName": "Jonathan Kirchhoff",
      "userId": "09432553977490044245"
     },
     "user_tz": -120
    },
    "id": "1giPKc4PTnP_",
    "outputId": "d2c7408b-0ba0-42dd-c5c4-452d48acb51d"
   },
   "outputs": [],
   "source": [
    "# Berechnung der Länge der Streckenabschnitte (Einheit: m)\n",
    "bsr_model['l'] = bsr_model['geometry'].length\n",
    "\n",
    "# Füllen der Nullwerte bei Reinigungsklassen:\n",
    "bsr_model['RVZRKL'].fillna(\"NaN\", inplace=True)\n",
    "\n",
    "# Zuordnung der Reinigungshäufigkeiten (Einheit: 1/Woche) zu Reinigungsklassen:\n",
    "f_map = {\n",
    "    'A1a': 10,\n",
    "    'A1b': 7,\n",
    "    'A2a': 6,\n",
    "    'A2b': 5,\n",
    "    'A3': 3,\n",
    "    'A4': 1,\n",
    "    'B': 1,\n",
    "    'C': 1,\n",
    "    'P': 1, # Modell-Annahme (siehe oben)\n",
    "    'NaN': 1 # Modell-Annahme (siehe oben)\n",
    "}\n",
    "\n",
    "bsr_model['f_pro_Woche'] = bsr_model['RVZRKL']\n",
    "bsr_model.replace({'f_pro_Woche': f_map}, inplace=True)\n",
    "bsr_model['f'] = bsr_model['f_pro_Woche'] / 7 # Einheit: 1/Tag\n",
    "\n",
    "# Unterscheidung nach Besen (f_b) und Kehrmaschinen (f_k)\n",
    "bsr_model['f_b'] = bsr_model['f'] # Annahme: Alle Gehwege werden mit Besen gereinigt\n",
    "bsr_model['f_k'] = np.where(bsr_model['RVZRKL'].isin(['C', 'P', 'NaN']), 0, bsr_model['f']) # Annahme: Die von der BSR gereinigten Fahrbahnen werden mit Kehrmaschinen gereinigt, die anderen gar nicht\n",
    "\n",
    "bsr_model.head()"
   ]
  },
  {
   "cell_type": "markdown",
   "metadata": {
    "id": "l1EZsm-Ilqar"
   },
   "source": [
    "## Emissionen modellieren\n",
    "Die Emissionen aus dem Abrieb werden gemäß der Modellbeschreibung aus den vorliegenden Daten bestimmt."
   ]
  },
  {
   "cell_type": "code",
   "execution_count": null,
   "metadata": {
    "colab": {
     "base_uri": "https://localhost:8080/",
     "height": 206
    },
    "executionInfo": {
     "elapsed": 92,
     "status": "ok",
     "timestamp": 1649922835101,
     "user": {
      "displayName": "Jonathan Kirchhoff",
      "userId": "09432553977490044245"
     },
     "user_tz": -120
    },
    "id": "J63rZtcBmGt8",
    "outputId": "c2a7a524-69db-4cb4-c798-13a286940873"
   },
   "outputs": [],
   "source": [
    "# Emissionsmengen auf dem Stadtgebiet:\n",
    "E_b = e_b * p_Berlin\n",
    "E_k = e_k * p_Berlin\n",
    "\n",
    "# Proportionalitätskonstante:\n",
    "alpha_b = 1 / (bsr_model['l'] * bsr_model['f_b']).sum()\n",
    "alpha_k = 1 / (bsr_model['l'] * bsr_model['f_k']).sum()\n",
    "\n",
    "# Emissionemengen je Streckenabschnitt:\n",
    "bsr_model['E_b'] = alpha_b * E_b * bsr_model['l'] * bsr_model['f_b']\n",
    "bsr_model['E_k'] = alpha_k * E_k * bsr_model['l'] * bsr_model['f_k']\n",
    "\n",
    "# Streckenspezifische Emissionsmengen je Streckenabschnitt:\n",
    "bsr_model['epsilon_b'] = alpha_b * E_b  * bsr_model['f_b']\n",
    "bsr_model['epsilon_k'] = alpha_k * E_k  * bsr_model['f_k']\n",
    "bsr_model['epsilon'] = bsr_model['epsilon_b'] + bsr_model['epsilon_k']\n",
    "\n",
    "bsr_model.head()"
   ]
  },
  {
   "cell_type": "markdown",
   "metadata": {
    "id": "OWb638yatx3f"
   },
   "source": [
    "## Daten visualisieren\n",
    "### Reinigungshäufigkeit\n",
    "Die Reinigungshäufigkeit ist nicht nur zur Ermittlung der Abriebsemissionen aus Besen und Kehrmaschinen relevant, sondern auch im Zusammenhang mit der Entfernung von Mikroplastik von der Fahrbahnoberfläche. Daher wird sie hier gesondert visualisiert, bevor die Emissionen dargestellt werden."
   ]
  },
  {
   "cell_type": "code",
   "execution_count": null,
   "metadata": {
    "executionInfo": {
     "elapsed": 503,
     "status": "ok",
     "timestamp": 1649922836368,
     "user": {
      "displayName": "Jonathan Kirchhoff",
      "userId": "09432553977490044245"
     },
     "user_tz": -120
    },
    "id": "Tb59pBpqvnDH"
   },
   "outputs": [],
   "source": [
    "import contextily as ctx\n",
    "import matplotlib.pyplot as plt\n",
    "from mpl_toolkits.axes_grid1 import make_axes_locatable"
   ]
  },
  {
   "cell_type": "code",
   "execution_count": null,
   "metadata": {
    "colab": {
     "base_uri": "https://localhost:8080/",
     "height": 896
    },
    "executionInfo": {
     "elapsed": 27819,
     "status": "ok",
     "timestamp": 1649922864184,
     "user": {
      "displayName": "Jonathan Kirchhoff",
      "userId": "09432553977490044245"
     },
     "user_tz": -120
    },
    "id": "4c97coEaPffh",
    "outputId": "8098cf9d-978b-4352-ade5-9ef1ca41d591"
   },
   "outputs": [],
   "source": [
    "fig, ax = plt.subplots(1,1, figsize=(60,15))\n",
    "divider = make_axes_locatable(ax)\n",
    "cax = divider.append_axes(\"bottom\", size=\"2%\", pad=0.1)\n",
    "bsr_model.plot(column='f_pro_Woche', ax= ax, cax=cax, legend = True, legend_kwds={'label': 'Reinigungshäufigkeit [$\\\\frac{1}{Woche}$]', 'orientation': 'horizontal', 'spacing': 'proportional'})\n",
    "ctx.add_basemap(ax=ax, crs=bsr_model.crs, source=ctx.providers.Stamen.TonerLite)"
   ]
  },
  {
   "cell_type": "markdown",
   "metadata": {
    "id": "__Ae3UcES_-4"
   },
   "source": [
    "### Emissionen aus dem Abrieb von Besen und Kehrmaschinen\n",
    "In der folgenden Abbildung werden die Modellergebnisse visualisiert. Da die Reinigungshäufigkeit - unter Berücksichtigung der Unterscheidung zwischen Besen und Kehrmaschinen - linear einfließt, ist das Ergebnis visuell nahezu identisch zur Darstellung der Reinigungshäufigkeit."
   ]
  },
  {
   "cell_type": "code",
   "execution_count": null,
   "metadata": {
    "colab": {
     "base_uri": "https://localhost:8080/",
     "height": 896
    },
    "executionInfo": {
     "elapsed": 5798,
     "status": "ok",
     "timestamp": 1649922869961,
     "user": {
      "displayName": "Jonathan Kirchhoff",
      "userId": "09432553977490044245"
     },
     "user_tz": -120
    },
    "id": "N0JeenTzrmNq",
    "outputId": "dac73dc1-eb75-4f96-ca75-6e1289fa0ded"
   },
   "outputs": [],
   "source": [
    "fig, ax = plt.subplots(1,1, figsize=(60,15))\n",
    "divider = make_axes_locatable(ax)\n",
    "cax = divider.append_axes(\"bottom\", size=\"2%\", pad=0.1)\n",
    "bsr_model.plot(column='epsilon', ax= ax, cax=cax, legend = True, legend_kwds={'label': 'Abrieb von Besen und Kehrmaschinen [$\\\\frac{g}{m \\\\cdot Jahr}$]', 'orientation': 'horizontal'})\n",
    "ctx.add_basemap(ax=ax, crs=bsr_model.crs, source=ctx.providers.Stamen.TonerLite)"
   ]
  },
  {
   "cell_type": "markdown",
   "metadata": {
    "id": "09Zz4pCiYmSQ"
   },
   "source": [
    "## Quellen\n",
    "Amt für Statistik Berlin-Brandenburg (o.J): Bevölkerungsstand. https://www.statistik-berlin-brandenburg.de/bevoelkerung/demografie/bevoelkerungsstand\n",
    "\n",
    "Berlin Open Data (2015): BSR Straßenreinigung - Verzeichnisse und Reinigungsklassen. https://daten.berlin.de/datensaetze/bsr-stra%C3%9Fenreinigung-verzeichnisse-und-reinigungsklassen\n",
    "\n",
    "Berlin Open Data (o.J.): Straßenreinigung Berlin. https://daten.berlin.de/anwendungen/stra%C3%9Fenreinigung-berlin\n",
    "\n",
    "Bertling, Jürgen; Bertling, Ralf; Hamann, Leandra (2018): Kunststoffe in der Umwelt: Mikro- und Makroplastik. Ursachen, Mengen, Umweltschicksale, Wirkungen, Lösungsansätze, Empfehlungen. Kurzfassung der Konsortialstudie, Fraunhofer-Instititut für Umwelt-, Sicherheits- und Energietechnik UMSICHT (Hrsg.), Oberhausen.\n",
    "\n",
    "\n",
    "BSR (o.J.): Straßenereingung. https://www.bsr.de/strassenreinigung-20471.php\n",
    "\n",
    "GovData (2013): Blockseiten Köln. https://www.govdata.de/daten/-/details/blockseite\n",
    "\n",
    "Open Data Düsseldorf (2020): WGS, UTM, ETRS - ein paar Informationen zu Geobasisdaten und Georeferenzsystemen. https://opendata.duesseldorf.de/blog/wgs-utm-etrs-ein-paar-informationen-zu-geobasisdaten-und-georeferenzsystemen"
   ]
  }
 ],
 "metadata": {
  "colab": {
   "collapsed_sections": [],
   "name": "Besen_Kehrmaschinen.ipynb",
   "version": ""
  },
  "kernelspec": {
   "display_name": "Python 3 (ipykernel)",
   "language": "python",
   "name": "python3"
  },
  "language_info": {
   "codemirror_mode": {
    "name": "ipython",
    "version": 3
   },
   "file_extension": ".py",
   "mimetype": "text/x-python",
   "name": "python",
   "nbconvert_exporter": "python",
   "pygments_lexer": "ipython3",
   "version": "3.10.4"
  }
 },
 "nbformat": 4,
 "nbformat_minor": 1
}
